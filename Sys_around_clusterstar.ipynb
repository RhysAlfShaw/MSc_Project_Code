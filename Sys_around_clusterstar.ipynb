{
 "cells": [
  {
   "cell_type": "code",
   "execution_count": 1,
   "source": [
    "import clustersimpy as cp\n",
    "import numpy as np"
   ],
   "outputs": [],
   "metadata": {}
  },
  {
   "cell_type": "code",
   "execution_count": 2,
   "source": [
    "## This Data Has been aclaucled as PC not AU. oops!!\n",
    "Sim_Data = cp.data('PLANET_TEST_N2_RAU_EPS40029')"
   ],
   "outputs": [],
   "metadata": {}
  },
  {
   "cell_type": "code",
   "execution_count": 3,
   "source": [
    "Sim_Data.read()"
   ],
   "outputs": [
    {
     "output_type": "stream",
     "name": "stdout",
     "text": [
      "N =  2\n",
      "time 300000.0\n",
      "units:  1.9884699e+33 3.0856775e+18 31556952.0\n",
      "mass array [5.9724e-06 1.0000e+00]\n",
      "PLANET_TEST_N2_RAU_EPS40029  Data Read successfully!\n"
     ]
    }
   ],
   "metadata": {}
  },
  {
   "cell_type": "code",
   "execution_count": 9,
   "source": [
    "X = Sim_Data.x\n",
    "Y = Sim_Data.y\n",
    "Z = Sim_Data.z\n",
    "#print(X)\n",
    "R_vec = np.array((X,Y,Z)).T\n",
    "#print(R_vec)\n",
    "\n",
    "VX = Sim_Data.vx\n",
    "VY = Sim_Data.vy\n",
    "VZ = Sim_Data.vz\n",
    "#print(X)\n",
    "V_vec = np.array((VX,VY,VZ)).T\n",
    "\n",
    "Mass = Sim_Data.mass\n",
    "print(Mass) #Mp,Mstar\n",
    "print(R_vec,V_vec)\n",
    "print(R_vec.shape,V_vec.shape)\n",
    "print(np.dot(R_vec,V_vec))"
   ],
   "outputs": [
    {
     "output_type": "stream",
     "name": "stdout",
     "text": [
      "[5.9724e-06 1.0000e+00]\n",
      "[[1.00000000e+00 8.95403675e+09 0.00000000e+00]\n",
      " [2.69951396e-19 2.69951692e-19 0.00000000e+00]] [[-1.50666062e-19  2.98467892e+04  0.00000000e+00]\n",
      " [ 8.99837987e-25  8.99838976e-25  0.00000000e+00]]\n",
      "(2, 3) (2, 3)\n"
     ]
    },
    {
     "output_type": "error",
     "ename": "ValueError",
     "evalue": "shapes (2,3) and (2,3) not aligned: 3 (dim 1) != 2 (dim 0)",
     "traceback": [
      "\u001b[0;31m---------------------------------------------------------------------------\u001b[0m",
      "\u001b[0;31mValueError\u001b[0m                                Traceback (most recent call last)",
      "\u001b[0;32m<ipython-input-9-62f84d2db827>\u001b[0m in \u001b[0;36m<module>\u001b[0;34m\u001b[0m\n\u001b[1;32m     16\u001b[0m \u001b[0mprint\u001b[0m\u001b[0;34m(\u001b[0m\u001b[0mR_vec\u001b[0m\u001b[0;34m,\u001b[0m\u001b[0mV_vec\u001b[0m\u001b[0;34m)\u001b[0m\u001b[0;34m\u001b[0m\u001b[0;34m\u001b[0m\u001b[0m\n\u001b[1;32m     17\u001b[0m \u001b[0mprint\u001b[0m\u001b[0;34m(\u001b[0m\u001b[0mR_vec\u001b[0m\u001b[0;34m.\u001b[0m\u001b[0mshape\u001b[0m\u001b[0;34m,\u001b[0m\u001b[0mV_vec\u001b[0m\u001b[0;34m.\u001b[0m\u001b[0mshape\u001b[0m\u001b[0;34m)\u001b[0m\u001b[0;34m\u001b[0m\u001b[0;34m\u001b[0m\u001b[0m\n\u001b[0;32m---> 18\u001b[0;31m \u001b[0mprint\u001b[0m\u001b[0;34m(\u001b[0m\u001b[0mnp\u001b[0m\u001b[0;34m.\u001b[0m\u001b[0mdot\u001b[0m\u001b[0;34m(\u001b[0m\u001b[0mR_vec\u001b[0m\u001b[0;34m,\u001b[0m\u001b[0mV_vec\u001b[0m\u001b[0;34m)\u001b[0m\u001b[0;34m)\u001b[0m\u001b[0;34m\u001b[0m\u001b[0;34m\u001b[0m\u001b[0m\n\u001b[0m",
      "\u001b[0;32m<__array_function__ internals>\u001b[0m in \u001b[0;36mdot\u001b[0;34m(*args, **kwargs)\u001b[0m\n",
      "\u001b[0;31mValueError\u001b[0m: shapes (2,3) and (2,3) not aligned: 3 (dim 1) != 2 (dim 0)"
     ]
    }
   ],
   "metadata": {}
  },
  {
   "cell_type": "code",
   "execution_count": 11,
   "source": [
    "Calc = cp.measure([Mass[1],Mass[0],(R_vec[0]-R_vec[1]),(V_vec[0] - V_vec[1])])\n",
    "A = Calc.calculate_a()\n",
    "print(A)\n",
    "E = Calc.calculate_e(A)\n",
    "print(E)\n",
    "Calc.graph('2D')\n",
    "Calc.graph('3D')"
   ],
   "outputs": [
    {
     "output_type": "stream",
     "name": "stdout",
     "text": [
      "1.0000000002233627\n",
      "8954036747.846657\n"
     ]
    },
    {
     "output_type": "error",
     "ename": "TypeError",
     "evalue": "graph() missing 2 required positional arguments: 'a' and 'e'",
     "traceback": [
      "\u001b[0;31m---------------------------------------------------------------------------\u001b[0m",
      "\u001b[0;31mTypeError\u001b[0m                                 Traceback (most recent call last)",
      "\u001b[0;32m<ipython-input-11-6fc604ea1ccd>\u001b[0m in \u001b[0;36m<module>\u001b[0;34m\u001b[0m\n\u001b[1;32m      4\u001b[0m \u001b[0mE\u001b[0m \u001b[0;34m=\u001b[0m \u001b[0mCalc\u001b[0m\u001b[0;34m.\u001b[0m\u001b[0mcalculate_e\u001b[0m\u001b[0;34m(\u001b[0m\u001b[0mA\u001b[0m\u001b[0;34m)\u001b[0m\u001b[0;34m\u001b[0m\u001b[0;34m\u001b[0m\u001b[0m\n\u001b[1;32m      5\u001b[0m \u001b[0mprint\u001b[0m\u001b[0;34m(\u001b[0m\u001b[0mE\u001b[0m\u001b[0;34m)\u001b[0m\u001b[0;34m\u001b[0m\u001b[0;34m\u001b[0m\u001b[0m\n\u001b[0;32m----> 6\u001b[0;31m \u001b[0mCalc\u001b[0m\u001b[0;34m.\u001b[0m\u001b[0mgraph\u001b[0m\u001b[0;34m(\u001b[0m\u001b[0;34m'2D'\u001b[0m\u001b[0;34m)\u001b[0m\u001b[0;34m\u001b[0m\u001b[0;34m\u001b[0m\u001b[0m\n\u001b[0m\u001b[1;32m      7\u001b[0m \u001b[0mCalc\u001b[0m\u001b[0;34m.\u001b[0m\u001b[0mgraph\u001b[0m\u001b[0;34m(\u001b[0m\u001b[0;34m'3D'\u001b[0m\u001b[0;34m)\u001b[0m\u001b[0;34m\u001b[0m\u001b[0;34m\u001b[0m\u001b[0m\n",
      "\u001b[0;31mTypeError\u001b[0m: graph() missing 2 required positional arguments: 'a' and 'e'"
     ]
    }
   ],
   "metadata": {}
  }
 ],
 "metadata": {
  "language_info": {
   "name": "python",
   "nbconvert_exporter": "python",
   "version": "3.8.0"
  },
  "orig_nbformat": 4,
  "kernelspec": {
   "name": "python3",
   "display_name": "Python 3.8.0 64-bit"
  },
  "interpreter": {
   "hash": "274ad0bb3531328a3666ef39f96c19dc88529916335e321c0c9b3ede7493f867"
  }
 },
 "nbformat": 4,
 "nbformat_minor": 2
}