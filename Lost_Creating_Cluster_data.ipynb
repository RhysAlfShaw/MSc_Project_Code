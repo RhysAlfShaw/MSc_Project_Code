{
 "metadata": {
  "language_info": {
   "codemirror_mode": {
    "name": "ipython",
    "version": 3
   },
   "file_extension": ".py",
   "mimetype": "text/x-python",
   "name": "python",
   "nbconvert_exporter": "python",
   "pygments_lexer": "ipython3",
   "version": "3.8.0"
  },
  "orig_nbformat": 4,
  "kernelspec": {
   "name": "python3",
   "display_name": "Python 3.8.0 64-bit"
  },
  "interpreter": {
   "hash": "274ad0bb3531328a3666ef39f96c19dc88529916335e321c0c9b3ede7493f867"
  }
 },
 "nbformat": 4,
 "nbformat_minor": 2,
 "cells": [
  {
   "cell_type": "code",
   "execution_count": 1,
   "metadata": {},
   "outputs": [],
   "source": [
    "import clustersimpy as cs\n",
    "import numpy as np"
   ]
  },
  {
   "cell_type": "code",
   "execution_count": 3,
   "metadata": {},
   "outputs": [
    {
     "output_type": "stream",
     "name": "stdout",
     "text": [
      "Number of Generations : 164\n",
      "Number of final stars : 1008\n",
      "Maximum Radius of clsuter: 206264\n",
      "Potential Energy (J) : 1.3300406595449219e+40\n",
      "Median Mass (Sol Mass) 0.8931264953555196\n",
      "Total kineitc energy (with out added factor):  2.1831785463476234e+38\n",
      "Velocity factor:  5.519158082161161\n",
      "mean v (m/s): 12.42277590525986\n",
      "median v (m/s): 3.9004579210905037\n",
      "std v (m/s): 1211.449889813378\n",
      "min v (m/s): -3832.027235242417\n",
      "max v (m/s): 4342.758817812886\n"
     ]
    }
   ],
   "source": [
    "N = 1000\n",
    "Rmax = 206264 #1pc in AU\n",
    "q = 0.5 \n",
    "sigma = 0.1\n",
    "x = [Rmax,N,q,sigma]\n",
    "cluster = cs.gen_cluster(x)\n",
    "cluster.Gen_positions('Fractal',D=0.5)"
   ]
  },
  {
   "cell_type": "code",
   "execution_count": 4,
   "metadata": {},
   "outputs": [
    {
     "output_type": "stream",
     "name": "stdout",
     "text": [
      "1008\n1008\n"
     ]
    }
   ],
   "source": [
    "print(len(cluster.X))\n",
    "print(len(cluster.Mass))"
   ]
  },
  {
   "cell_type": "code",
   "execution_count": null,
   "metadata": {},
   "outputs": [],
   "source": [
    "cluster.graph('3D')\n",
    "cluster.graph('2D')"
   ]
  },
  {
   "cell_type": "code",
   "execution_count": 7,
   "metadata": {},
   "outputs": [
    {
     "output_type": "stream",
     "name": "stdout",
     "text": [
      "CLUSTER_TEST.dat  sucessfully written to directory!\n"
     ]
    }
   ],
   "source": [
    "Dat = cs.data('CLUSTER_TEST.dat')\n",
    "R = np.array([cluster.X,cluster.Y,cluster.Z]).T\n",
    "V = cluster.V\n",
    "N = cluster.N\n",
    "Dat.write(R,V,N,0,cluster.Mass,Length_unit=1.496E+13)"
   ]
  },
  {
   "cell_type": "code",
   "execution_count": null,
   "metadata": {},
   "outputs": [],
   "source": []
  }
 ]
}