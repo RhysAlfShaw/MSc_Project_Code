{
 "metadata": {
  "language_info": {
   "codemirror_mode": {
    "name": "ipython",
    "version": 3
   },
   "file_extension": ".py",
   "mimetype": "text/x-python",
   "name": "python",
   "nbconvert_exporter": "python",
   "pygments_lexer": "ipython3",
   "version": "3.9.4"
  },
  "orig_nbformat": 4,
  "kernelspec": {
   "name": "python3",
   "display_name": "Python 3.9.4 64-bit"
  },
  "interpreter": {
   "hash": "bccecc78c61dcd5f860d68941447b521e3d198e1860e1524851bd0880423d44e"
  }
 },
 "nbformat": 4,
 "nbformat_minor": 2,
 "cells": [
  {
   "cell_type": "code",
   "execution_count": 68,
   "metadata": {},
   "outputs": [],
   "source": [
    "import numpy as np \n",
    "import matplotlib.pyplot as plt "
   ]
  },
  {
   "cell_type": "code",
   "execution_count": 69,
   "metadata": {},
   "outputs": [],
   "source": [
    "# system parameters\n",
    "G = 6.67E-11\n",
    "M_star = 0.2       #M_sol\n",
    "M_planet = 9.55E-4 #M_sol Jupiter like mass\n",
    "M_sol = 1.99E30\n",
    "AU = 1.49E11 \n",
    "a = 1              #AU Preset because of circular orbit\n",
    "r = 0.8              #AU"
   ]
  },
  {
   "cell_type": "code",
   "execution_count": 70,
   "metadata": {},
   "outputs": [],
   "source": [
    "R_ = np.array([r*AU,0,0])\n",
    "A_ = np.array([a*AU,0,0])"
   ]
  },
  {
   "cell_type": "code",
   "execution_count": 71,
   "metadata": {},
   "outputs": [],
   "source": [
    "# calculating V using Vis Viva equation since we know that this velocity will be perpendicular to the direction r. \n",
    "Vy = np.sqrt(G*(M_star+M_planet)*M_sol * ((2)/(R_[0]) - (1)/(A_[0])))\n",
    "V_ = np.array([0,Vy,0])"
   ]
  },
  {
   "cell_type": "code",
   "execution_count": 72,
   "metadata": {},
   "outputs": [
    {
     "output_type": "stream",
     "name": "stdout",
     "text": [
      "V = [    0.         16386.69455809     0.        ] m/s\n"
     ]
    }
   ],
   "source": [
    "print('V =',V_,'m/s')"
   ]
  },
  {
   "cell_type": "code",
   "execution_count": 73,
   "metadata": {},
   "outputs": [
    {
     "output_type": "stream",
     "name": "stdout",
     "text": [
      "-1.69296932785235e+35\n"
     ]
    }
   ],
   "source": [
    "# Calculating a (major semi-axis)\n",
    "mu = M_star*M_sol*M_sol*M_planet/(M_planet*M_sol+M_star*M_sol)\n",
    "Eb = 0.5*mu*np.linalg.norm(V_)**2  - (G*M_star*M_sol*M_planet*M_sol)/(np.linalg.norm(R_))\n",
    "print(Eb)\n",
    "a = (G * M_star*M_sol * M_planet*M_sol) / (2*Eb)"
   ]
  },
  {
   "cell_type": "code",
   "execution_count": 74,
   "metadata": {},
   "outputs": [
    {
     "output_type": "stream",
     "name": "stdout",
     "text": [
      "-148999999999.99994\n"
     ]
    }
   ],
   "source": [
    "print(a)"
   ]
  },
  {
   "cell_type": "code",
   "execution_count": 75,
   "metadata": {},
   "outputs": [
    {
     "output_type": "stream",
     "name": "stdout",
     "text": [
      "0.19999999999999962\n"
     ]
    }
   ],
   "source": [
    "#Calculating e given a systems, R and a.\n",
    "e = np.sqrt((1-(np.linalg.norm(R_))/(abs(a)) )**2 + (np.dot(R_,V_)**2)/(abs(a)*G*(M_planet+M_star)*M_sol))\n",
    "#e = np.sqrt((1-(r*AU)/(abs(a)))**2) 0.64 + ..\n",
    "print(e)"
   ]
  },
  {
   "cell_type": "code",
   "execution_count": null,
   "metadata": {},
   "outputs": [],
   "source": []
  }
 ]
}